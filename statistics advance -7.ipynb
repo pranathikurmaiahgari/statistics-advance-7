{
 "cells": [
  {
   "cell_type": "markdown",
   "id": "900335c3-fddd-43b3-8a37-e4db99560170",
   "metadata": {},
   "source": [
    "Q1. Write a Python function that takes in two arrays of data and calculates the F-value for a variance ratio\n",
    "test. The function should return the F-value and the corresponding p-value for the test."
   ]
  },
  {
   "cell_type": "code",
   "execution_count": 1,
   "id": "40e8c560-d582-4135-8fa6-ebd8ef86e398",
   "metadata": {},
   "outputs": [
    {
     "name": "stdout",
     "output_type": "stream",
     "text": [
      "F-value: 0.3243243243243243\n",
      "P-value: 0.5846522205119924\n"
     ]
    }
   ],
   "source": [
    "import numpy as np\n",
    "from scipy.stats import f_oneway\n",
    "\n",
    "def calculate_f_value(data1, data2):\n",
    "    \"\"\"\n",
    "    Calculate F-value and p-value for a variance ratio test (F-test).\n",
    "\n",
    "    Parameters:\n",
    "    - data1, data2: Arrays of data for the two groups.\n",
    "\n",
    "    Returns:\n",
    "    - f_value: F-statistic for the variance ratio test.\n",
    "    - p_value: Two-tailed p-value for the test.\n",
    "    \"\"\"\n",
    "    # Perform the F-test\n",
    "    f_value, p_value = f_oneway(data1, data2)\n",
    "\n",
    "    return f_value, p_value\n",
    "\n",
    "# Example usage:\n",
    "group1_data = np.array([10, 12, 14, 16, 18])\n",
    "group2_data = np.array([8, 11, 13, 15, 17])\n",
    "\n",
    "f_value, p_value = calculate_f_value(group1_data, group2_data)\n",
    "print(f\"F-value: {f_value}\")\n",
    "print(f\"P-value: {p_value}\")\n"
   ]
  },
  {
   "cell_type": "markdown",
   "id": "73fd00f2-c5be-430c-95ad-274380e99f33",
   "metadata": {},
   "source": [
    "Q2. Given a significance level of 0.05 and the degrees of freedom for the numerator and denominator of an\n",
    "F-distribution, write a Python function that returns the critical F-value for a two-tailed test."
   ]
  },
  {
   "cell_type": "code",
   "execution_count": 2,
   "id": "c612d005-473a-49fb-927a-12008b3de4b8",
   "metadata": {},
   "outputs": [
    {
     "name": "stdout",
     "output_type": "stream",
     "text": [
      "Critical F-value: 3.8586986662732143\n"
     ]
    }
   ],
   "source": [
    "from scipy.stats import f\n",
    "\n",
    "def calculate_critical_f_value(alpha, df_num, df_denom):\n",
    "    \"\"\"\n",
    "    Calculate critical F-value for a given significance level and degrees of freedom.\n",
    "\n",
    "    Parameters:\n",
    "    - alpha: Significance level (e.g., 0.05 for a 5% significance level).\n",
    "    - df_num: Degrees of freedom for the numerator.\n",
    "    - df_denom: Degrees of freedom for the denominator.\n",
    "\n",
    "    Returns:\n",
    "    - critical_f_value: Critical F-value for a two-tailed test.\n",
    "    \"\"\"\n",
    "    # Calculate the critical F-value using the ppf (percent-point function) method\n",
    "    critical_f_value = f.ppf(1 - alpha/2, df_num, df_denom)\n",
    "\n",
    "    return critical_f_value\n",
    "\n",
    "# Example usage:\n",
    "alpha_level = 0.05\n",
    "degrees_of_freedom_num = 3\n",
    "degrees_of_freedom_denom = 20\n",
    "\n",
    "critical_f = calculate_critical_f_value(alpha_level, degrees_of_freedom_num, degrees_of_freedom_denom)\n",
    "print(f\"Critical F-value: {critical_f}\")\n"
   ]
  },
  {
   "cell_type": "markdown",
   "id": "0b7070c3-7fb8-4e53-91a8-f1087ba8e428",
   "metadata": {},
   "source": [
    "Q3. Write a Python program that generates random samples from two normal distributions with known\n",
    "\n",
    "variances and uses an F-test to determine if the variances are equal. The program should output the F-\n",
    "value, degrees of freedom, and p-value for the test."
   ]
  },
  {
   "cell_type": "code",
   "execution_count": 3,
   "id": "3d9454f9-0892-45e9-b2d1-d09737d63441",
   "metadata": {},
   "outputs": [
    {
     "name": "stdout",
     "output_type": "stream",
     "text": [
      "F-value: 15.962766834764713\n",
      "Degrees of Freedom (numerator): 99\n",
      "Degrees of Freedom (denominator): 99\n",
      "P-value: 9.106540086305198e-05\n"
     ]
    }
   ],
   "source": [
    "import numpy as np\n",
    "from scipy.stats import f_oneway\n",
    "\n",
    "def perform_f_test(sample1, sample2):\n",
    "    \"\"\"\n",
    "    Perform an F-test to compare variances of two samples.\n",
    "\n",
    "    Parameters:\n",
    "    - sample1, sample2: Arrays representing the two samples.\n",
    "\n",
    "    Returns:\n",
    "    - f_value: F-statistic for the variance ratio test.\n",
    "    - df_num: Degrees of freedom for the numerator.\n",
    "    - df_denom: Degrees of freedom for the denominator.\n",
    "    - p_value: Two-tailed p-value for the test.\n",
    "    \"\"\"\n",
    "    # Calculate F-value and p-value\n",
    "    f_value, p_value = f_oneway(sample1, sample2)\n",
    "\n",
    "    # Degrees of freedom\n",
    "    df_num = len(sample1) - 1\n",
    "    df_denom = len(sample2) - 1\n",
    "\n",
    "    return f_value, df_num, df_denom, p_value\n",
    "\n",
    "# Example usage:\n",
    "np.random.seed(42)  # for reproducibility\n",
    "\n",
    "# Generate random samples from two normal distributions\n",
    "sample1 = np.random.normal(loc=10, scale=5, size=100)\n",
    "sample2 = np.random.normal(loc=12, scale=5, size=100)\n",
    "\n",
    "# Perform F-test\n",
    "f_value, df_num, df_denom, p_value = perform_f_test(sample1, sample2)\n",
    "\n",
    "# Output the results\n",
    "print(f\"F-value: {f_value}\")\n",
    "print(f\"Degrees of Freedom (numerator): {df_num}\")\n",
    "print(f\"Degrees of Freedom (denominator): {df_denom}\")\n",
    "print(f\"P-value: {p_value}\")\n"
   ]
  },
  {
   "cell_type": "markdown",
   "id": "d12ddc4b-a701-44f7-a5a6-8d87316a09f9",
   "metadata": {},
   "source": [
    "Q4.The variances of two populations are known to be 10 and 15. A sample of 12 observations is taken from\n",
    "each population. Conduct an F-test at the 5% significance level to determine if the variances are\n",
    "significantly different."
   ]
  },
  {
   "cell_type": "code",
   "execution_count": 4,
   "id": "f73c6a9f-23cd-41a4-b3b7-742d129589c4",
   "metadata": {},
   "outputs": [
    {
     "name": "stdout",
     "output_type": "stream",
     "text": [
      "Reject the null hypothesis. Variances are significantly different.\n",
      "F-statistic: 0.6666666666666666\n",
      "Critical F-value: 3.473699051085809\n"
     ]
    }
   ],
   "source": [
    "from scipy.stats import f\n",
    "\n",
    "# Given data\n",
    "variance_population1 = 10\n",
    "variance_population2 = 15\n",
    "sample_size = 12\n",
    "alpha = 0.05\n",
    "\n",
    "# Degrees of freedom\n",
    "df_num = sample_size - 1\n",
    "df_denom = sample_size - 1\n",
    "\n",
    "# Calculate the F-statistic\n",
    "f_statistic = variance_population1 / variance_population2\n",
    "\n",
    "# Determine the critical F-value\n",
    "critical_f_value = f.ppf(1 - alpha/2, df_num, df_denom)\n",
    "\n",
    "# Compare with critical F-value\n",
    "if f_statistic < critical_f_value or f_statistic > 1/critical_f_value:\n",
    "    print(\"Reject the null hypothesis. Variances are significantly different.\")\n",
    "else:\n",
    "    print(\"Fail to reject the null hypothesis. Variances are not significantly different.\")\n",
    "\n",
    "# Output the results\n",
    "print(f\"F-statistic: {f_statistic}\")\n",
    "print(f\"Critical F-value: {critical_f_value}\")\n"
   ]
  },
  {
   "cell_type": "markdown",
   "id": "c391863d-0ae8-40b3-91dd-5ea50c4684c4",
   "metadata": {},
   "source": [
    "Q5. A manufacturer claims that the variance of the diameter of a certain product is 0.005. A sample of 25\n",
    "products is taken, and the sample variance is found to be 0.006. Conduct an F-test at the 1% significance\n",
    "level to determine if the claim is justified."
   ]
  },
  {
   "cell_type": "code",
   "execution_count": 5,
   "id": "c5b66fff-d364-4605-9750-ae3eabc8b811",
   "metadata": {},
   "outputs": [
    {
     "name": "stdout",
     "output_type": "stream",
     "text": [
      "Fail to reject the null hypothesis. The claim is justified.\n",
      "F-statistic: 1.2\n",
      "Critical F-value: 6234.6308935330835\n"
     ]
    }
   ],
   "source": [
    "from scipy.stats import f\n",
    "\n",
    "# Given data\n",
    "claimed_variance = 0.005\n",
    "sample_size = 25\n",
    "sample_variance = 0.006\n",
    "alpha = 0.01  # 1% significance level\n",
    "\n",
    "# Degrees of freedom\n",
    "df_num = sample_size - 1\n",
    "df_denom = 1  # Degrees of freedom for the claimed variance (considering a single value)\n",
    "\n",
    "# Calculate the F-statistic\n",
    "f_statistic = sample_variance / claimed_variance\n",
    "\n",
    "# Determine the critical F-value\n",
    "critical_f_value = f.ppf(1 - alpha, df_num, df_denom)\n",
    "\n",
    "# Compare with critical F-value\n",
    "if f_statistic > critical_f_value:\n",
    "    print(\"Reject the null hypothesis. The claim is not justified.\")\n",
    "else:\n",
    "    print(\"Fail to reject the null hypothesis. The claim is justified.\")\n",
    "\n",
    "# Output the results\n",
    "print(f\"F-statistic: {f_statistic}\")\n",
    "print(f\"Critical F-value: {critical_f_value}\")\n"
   ]
  },
  {
   "cell_type": "markdown",
   "id": "15803ac9-9515-4042-8a68-425236aab87f",
   "metadata": {},
   "source": [
    "Q6. Write a Python function that takes in the degrees of freedom for the numerator and denominator of an\n",
    "F-distribution and calculates the mean and variance of the distribution. The function should return the\n",
    "mean and variance as a tuple."
   ]
  },
  {
   "cell_type": "code",
   "execution_count": 6,
   "id": "4383cd84-9aca-477c-83bd-f2ebec5dfc8b",
   "metadata": {},
   "outputs": [
    {
     "name": "stdout",
     "output_type": "stream",
     "text": [
      "Mean of F-distribution: 1.25\n",
      "Variance of F-distribution: 1.3541666666666667\n"
     ]
    }
   ],
   "source": [
    "def calculate_fdistribution_stats(df_num, df_denom):\n",
    "    \"\"\"\n",
    "    Calculate the mean and variance of an F-distribution.\n",
    "\n",
    "    Parameters:\n",
    "    - df_num: Degrees of freedom for the numerator.\n",
    "    - df_denom: Degrees of freedom for the denominator.\n",
    "\n",
    "    Returns:\n",
    "    - mean: Mean of the F-distribution.\n",
    "    - variance: Variance of the F-distribution.\n",
    "    \"\"\"\n",
    "    # Check if degrees of freedom are valid\n",
    "    if df_num <= 0 or df_denom <= 0:\n",
    "        raise ValueError(\"Degrees of freedom must be greater than zero.\")\n",
    "\n",
    "    # Calculate mean and variance\n",
    "    mean = df_denom / (df_denom - 2) if df_denom > 2 else None\n",
    "    variance = (2 * df_denom**2 * (df_num + df_denom - 2)) / (df_num * (df_denom - 2)**2 * (df_denom - 4)) if df_denom > 4 else None\n",
    "\n",
    "    return mean, variance\n",
    "\n",
    "# Example usage:\n",
    "df_num_example = 5\n",
    "df_denom_example = 10\n",
    "\n",
    "mean, variance = calculate_fdistribution_stats(df_num_example, df_denom_example)\n",
    "\n",
    "# Output the results\n",
    "print(f\"Mean of F-distribution: {mean}\")\n",
    "print(f\"Variance of F-distribution: {variance}\")\n"
   ]
  },
  {
   "cell_type": "markdown",
   "id": "26111908-d82d-4756-8a15-fc2a259bcbc2",
   "metadata": {},
   "source": [
    "Q7. A random sample of 10 measurements is taken from a normal population with unknown variance. The\n",
    "sample variance is found to be 25. Another random sample of 15 measurements is taken from another\n",
    "normal population with unknown variance, and the sample variance is found to be 20. Conduct an F-test\n",
    "at the 10% significance level to determine if the variances are significantly different."
   ]
  },
  {
   "cell_type": "code",
   "execution_count": 7,
   "id": "e186cc33-2d86-4cf4-b0b0-ba7f16cb8fcc",
   "metadata": {},
   "outputs": [
    {
     "name": "stdout",
     "output_type": "stream",
     "text": [
      "Fail to reject the null hypothesis. Variances are not significantly different.\n",
      "F-statistic: 1.25\n",
      "Critical F-value: 2.3201052423166293\n"
     ]
    }
   ],
   "source": [
    "from scipy.stats import f\n",
    "\n",
    "# Given data\n",
    "sample_variance1 = 25\n",
    "sample_size1 = 10\n",
    "\n",
    "sample_variance2 = 20\n",
    "sample_size2 = 15\n",
    "\n",
    "alpha = 0.10  # 10% significance level\n",
    "\n",
    "# Degrees of freedom\n",
    "df_num1 = sample_size1 - 1\n",
    "df_num2 = sample_size2 - 1\n",
    "\n",
    "df_denom1 = df_num1\n",
    "df_denom2 = df_num2\n",
    "\n",
    "# Calculate the F-statistic\n",
    "f_statistic = sample_variance1 / sample_variance2\n",
    "\n",
    "# Degrees of freedom for the F-distribution\n",
    "df_num = df_num1\n",
    "df_denom = df_denom1 + df_denom2  # Since variances are from two different populations\n",
    "\n",
    "# Determine the critical F-value\n",
    "critical_f_value = f.ppf(1 - alpha/2, df_num, df_denom)\n",
    "\n",
    "# Compare with critical F-value\n",
    "if f_statistic < 1 / critical_f_value or f_statistic > critical_f_value:\n",
    "    print(\"Reject the null hypothesis. Variances are significantly different.\")\n",
    "else:\n",
    "    print(\"Fail to reject the null hypothesis. Variances are not significantly different.\")\n",
    "\n",
    "# Output the results\n",
    "print(f\"F-statistic: {f_statistic}\")\n",
    "print(f\"Critical F-value: {critical_f_value}\")\n"
   ]
  },
  {
   "cell_type": "markdown",
   "id": "0c205fbf-e2c8-41a7-b66b-4fceb3031969",
   "metadata": {},
   "source": [
    "Q8. The following data represent the waiting times in minutes at two different restaurants on a Saturday\n",
    "night: Restaurant A: 24, 25, 28, 23, 22, 20, 27; Restaurant B: 31, 33, 35, 30, 32, 36. Conduct an F-test at the 5%\n",
    "significance level to determine if the variances are significantly different."
   ]
  },
  {
   "cell_type": "code",
   "execution_count": 8,
   "id": "7d0d5b80-1e37-4fe6-92ea-b56ca7b9af48",
   "metadata": {},
   "outputs": [
    {
     "name": "stdout",
     "output_type": "stream",
     "text": [
      "Fail to reject the null hypothesis. Variances are not significantly different.\n",
      "F-statistic: 1.4551907719609583\n",
      "Critical F-value: 3.880651168910048\n"
     ]
    }
   ],
   "source": [
    "from scipy.stats import f\n",
    "\n",
    "# Given data\n",
    "waiting_times_restaurant_A = [24, 25, 28, 23, 22, 20, 27]\n",
    "waiting_times_restaurant_B = [31, 33, 35, 30, 32, 36]\n",
    "\n",
    "alpha = 0.05  # 5% significance level\n",
    "\n",
    "# Sample sizes and variances\n",
    "sample_size_A = len(waiting_times_restaurant_A)\n",
    "sample_variance_A = np.var(waiting_times_restaurant_A, ddof=1)\n",
    "\n",
    "sample_size_B = len(waiting_times_restaurant_B)\n",
    "sample_variance_B = np.var(waiting_times_restaurant_B, ddof=1)\n",
    "\n",
    "# Degrees of freedom\n",
    "df_num_A = sample_size_A - 1\n",
    "df_num_B = sample_size_B - 1\n",
    "\n",
    "df_denom_A = df_num_A\n",
    "df_denom_B = df_num_B\n",
    "\n",
    "# Calculate the F-statistic\n",
    "f_statistic = sample_variance_A / sample_variance_B\n",
    "\n",
    "# Degrees of freedom for the F-distribution\n",
    "df_num = df_num_A\n",
    "df_denom = df_denom_A + df_denom_B  # Since variances are from two different populations\n",
    "\n",
    "# Determine the critical F-value\n",
    "critical_f_value = f.ppf(1 - alpha/2, df_num, df_denom)\n",
    "\n",
    "# Compare with critical F-value\n",
    "if f_statistic < 1 / critical_f_value or f_statistic > critical_f_value:\n",
    "    print(\"Reject the null hypothesis. Variances are significantly different.\")\n",
    "else:\n",
    "    print(\"Fail to reject the null hypothesis. Variances are not significantly different.\")\n",
    "\n",
    "# Output the results\n",
    "print(f\"F-statistic: {f_statistic}\")\n",
    "print(f\"Critical F-value: {critical_f_value}\")\n"
   ]
  },
  {
   "cell_type": "markdown",
   "id": "169a5ba6-f825-466e-b154-0deb645cfbb7",
   "metadata": {},
   "source": [
    "Q9. The following data represent the test scores of two groups of students: Group A: 80, 85, 90, 92, 87, 83;\n",
    "Group B: 75, 78, 82, 79, 81, 84. Conduct an F-test at the 1% significance level to determine if the variances\n",
    "are significantly different."
   ]
  },
  {
   "cell_type": "code",
   "execution_count": null,
   "id": "45a2bb08-641b-45d3-a332-927bbc1ab0d4",
   "metadata": {},
   "outputs": [],
   "source": []
  }
 ],
 "metadata": {
  "kernelspec": {
   "display_name": "Python 3 (ipykernel)",
   "language": "python",
   "name": "python3"
  },
  "language_info": {
   "codemirror_mode": {
    "name": "ipython",
    "version": 3
   },
   "file_extension": ".py",
   "mimetype": "text/x-python",
   "name": "python",
   "nbconvert_exporter": "python",
   "pygments_lexer": "ipython3",
   "version": "3.10.8"
  }
 },
 "nbformat": 4,
 "nbformat_minor": 5
}
